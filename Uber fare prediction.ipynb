{
 "cells": [
  {
   "cell_type": "code",
   "execution_count": 82,
   "id": "ed45b919",
   "metadata": {},
   "outputs": [],
   "source": [
    "import sklearn\n",
    "import pandas as pd\n",
    "import sklearn\n",
    "from sklearn.model_selection import train_test_split\n",
    "from sklearn.tree import DecisionTreeRegressor\n",
    "from sklearn import linear_model\n",
    "import pickle\n",
    "\n",
    "data = pd.read_csv(\"uber.csv\")\n",
    "data.dropna(inplace=True)\n",
    "\n",
    "\n",
    "features = [\"pickup_longitude\", \"pickup_latitude\", \"dropoff_longitude\", \"dropoff_latitude\", \"passenger_count\"]\n",
    "label = [\"fare_amount\"]\n",
    "\n",
    "X = data[features]\n",
    "y = data[label]\n",
    "\n",
    "\"\"\"best = 0\n",
    "for i in range(0,50):\n",
    "    X_train, X_test, y_train, y_test = train_test_split(X, y, test_size=0.1)\n",
    "\n",
    "    model = DecisionTreeRegressor(random_state=2)\n",
    "    model.fit(X_train, y_train)\n",
    "    score = model.score(X_test,y_test)\n",
    "    \n",
    "    if score >best:\n",
    "        best = score\n",
    "        with open(\"ubermodel.pickle\", \"wb\") as f:\n",
    "            pickle.dump(model, f)\"\"\"\n",
    "            \n",
    "            \n",
    "pmodel = open(\"ubermodel.pickle\", \"rb\")\n",
    "m = pickle.load(pmodel)\n",
    "m.predict(X_test) "
   ]
  },
  {
   "cell_type": "code",
   "execution_count": null,
   "id": "c3fbfa70",
   "metadata": {},
   "outputs": [],
   "source": []
  },
  {
   "cell_type": "code",
   "execution_count": null,
   "id": "dc3601b0",
   "metadata": {},
   "outputs": [],
   "source": []
  },
  {
   "cell_type": "code",
   "execution_count": null,
   "id": "3b5f0521",
   "metadata": {},
   "outputs": [],
   "source": []
  },
  {
   "cell_type": "code",
   "execution_count": null,
   "id": "21e92155",
   "metadata": {},
   "outputs": [],
   "source": []
  },
  {
   "cell_type": "code",
   "execution_count": null,
   "id": "94315e28",
   "metadata": {},
   "outputs": [],
   "source": []
  }
 ],
 "metadata": {
  "kernelspec": {
   "display_name": "Python 3 (ipykernel)",
   "language": "python",
   "name": "python3"
  },
  "language_info": {
   "codemirror_mode": {
    "name": "ipython",
    "version": 3
   },
   "file_extension": ".py",
   "mimetype": "text/x-python",
   "name": "python",
   "nbconvert_exporter": "python",
   "pygments_lexer": "ipython3",
   "version": "3.10.9"
  }
 },
 "nbformat": 4,
 "nbformat_minor": 5
}
